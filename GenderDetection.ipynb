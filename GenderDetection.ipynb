{
  "nbformat": 4,
  "nbformat_minor": 0,
  "metadata": {
    "colab": {
      "name": "GenderDetection.ipynb",
      "provenance": [],
      "collapsed_sections": [],
      "mount_file_id": "1yQvCVveJYF59vcvcprqxP6CFBJvae8rX",
      "authorship_tag": "ABX9TyNCQFI40MB4JvVRnaI7CURL",
      "include_colab_link": true
    },
    "kernelspec": {
      "name": "python3",
      "display_name": "Python 3"
    },
    "accelerator": "GPU"
  },
  "cells": [
    {
      "cell_type": "markdown",
      "metadata": {
        "id": "view-in-github",
        "colab_type": "text"
      },
      "source": [
        "<a href=\"https://colab.research.google.com/github/aviraltyagi/GenderDetection/blob/master/GenderDetection.ipynb\" target=\"_parent\"><img src=\"https://colab.research.google.com/assets/colab-badge.svg\" alt=\"Open In Colab\"/></a>"
      ]
    },
    {
      "cell_type": "code",
      "metadata": {
        "id": "njQvhk45PHFA"
      },
      "source": [
        "import os\n",
        "import tensorflow as tf\n",
        "from tensorflow.keras.layers import Input, Lambda, Dense, Flatten, Conv2D, MaxPooling2D\n",
        "from tensorflow.keras.models import Model\n",
        "from tensorflow.keras.applications import InceptionV3, VGG16, ResNet50, VGG19\n",
        "from tensorflow.keras.preprocessing import image\n",
        "from tensorflow.keras.preprocessing.image import ImageDataGenerator\n",
        "import numpy as np\n",
        "from glob import glob\n",
        "import typing"
      ],
      "execution_count": null,
      "outputs": []
    },
    {
      "cell_type": "code",
      "metadata": {
        "id": "cziQXEZAg09i"
      },
      "source": [
        "import os\n",
        "os.environ['KAGGLE_CONFIG_DIR'] = '/content'"
      ],
      "execution_count": null,
      "outputs": []
    },
    {
      "cell_type": "code",
      "metadata": {
        "colab": {
          "base_uri": "https://localhost:8080/"
        },
        "id": "m01ENZFaP4ae",
        "outputId": "75b30a9a-e1e8-4e88-edd8-1040fd148435"
      },
      "source": [
        "!kaggle datasets download -d cashutosh/gender-classification-dataset"
      ],
      "execution_count": null,
      "outputs": [
        {
          "output_type": "stream",
          "text": [
            "Warning: Your Kaggle API key is readable by other users on this system! To fix this, you can run 'chmod 600 /content/kaggle.json'\n",
            "Downloading gender-classification-dataset.zip to /content\n",
            " 95% 257M/269M [00:03<00:00, 69.4MB/s]\n",
            "100% 269M/269M [00:03<00:00, 83.4MB/s]\n"
          ],
          "name": "stdout"
        }
      ]
    },
    {
      "cell_type": "code",
      "metadata": {
        "id": "WdRGXk-rQJRg"
      },
      "source": [
        "!unzip \\*.zip && rm *.zip"
      ],
      "execution_count": null,
      "outputs": []
    },
    {
      "cell_type": "code",
      "metadata": {
        "colab": {
          "base_uri": "https://localhost:8080/"
        },
        "id": "9v2we8wchRYy",
        "outputId": "d54b0f4e-5cfc-4c07-967e-452796accb8f"
      },
      "source": [
        "train_dataset = \"/content/Training\"\n",
        "validation_dataset = \"/content/Validation\"\n",
        "\n",
        "train_folders = glob(\"/content/Training/*\")\n",
        "print(train_folders)"
      ],
      "execution_count": null,
      "outputs": [
        {
          "output_type": "stream",
          "text": [
            "['/content/Training/female', '/content/Training/male']\n"
          ],
          "name": "stdout"
        }
      ]
    },
    {
      "cell_type": "code",
      "metadata": {
        "colab": {
          "base_uri": "https://localhost:8080/"
        },
        "id": "qEif-qMahdDv",
        "outputId": "24153a22-c296-4b7a-cabc-379bdcac49f7"
      },
      "source": [
        "train_datagen = ImageDataGenerator(rescale= 1./255)\n",
        "test_datagen = ImageDataGenerator(rescale= 1./255)\n",
        "\n",
        "train_set = train_datagen.flow_from_directory(train_dataset, target_size= (114, 92), batch_size= 64, class_mode= 'categorical')\n",
        "test_set = test_datagen.flow_from_directory(train_dataset, target_size= (114, 92), batch_size= 64, class_mode= 'categorical')"
      ],
      "execution_count": null,
      "outputs": [
        {
          "output_type": "stream",
          "text": [
            "Found 47009 images belonging to 2 classes.\n",
            "Found 47009 images belonging to 2 classes.\n"
          ],
          "name": "stdout"
        }
      ]
    },
    {
      "cell_type": "code",
      "metadata": {
        "id": "ri7kJzdbA8KX",
        "colab": {
          "base_uri": "https://localhost:8080/"
        },
        "outputId": "e5fd4fca-a90e-49a5-c64f-0dfd0dc12e12"
      },
      "source": [
        "def CustomModel(input_shape: typing.Tuple[int]) -> Model:\n",
        "    vgg19 = VGG19(input_shape= input_shape, weights= 'imagenet', include_top= False)\n",
        "    for layer in vgg19.layers:\n",
        "        layer.trainable = False\n",
        "        \n",
        "    x = Flatten()(vgg19.output)\n",
        "    x = Dense(units= 2048, activation= 'relu')(x)\n",
        "    output = Dense(units= len(train_folders), activation= 'softmax')(x)\n",
        "    \n",
        "    model = Model(inputs= vgg19.input, outputs= output, name= 'EmotionDetection')\n",
        "    model.compile(loss= 'categorical_crossentropy', optimizer= 'adam', metrics= ['accuracy'])\n",
        "    \n",
        "    return model\n",
        "\n",
        "model = CustomModel(input_shape= (114,92,3))\n",
        "history = model.fit(train_set,\n",
        "                    validation_data= test_set,\n",
        "                    epochs= 2,\n",
        "                    callbacks= [tf.keras.callbacks.EarlyStopping(patience=5, monitor='val_loss',restore_best_weights=True)],\n",
        "                    steps_per_epoch= len(train_set),\n",
        "                    validation_steps= len(test_set))"
      ],
      "execution_count": null,
      "outputs": [
        {
          "output_type": "stream",
          "text": [
            "Epoch 1/2\n",
            "735/735 [==============================] - 101s 137ms/step - loss: 0.4697 - accuracy: 0.8497 - val_loss: 0.2055 - val_accuracy: 0.9167\n",
            "Epoch 2/2\n",
            "735/735 [==============================] - 109s 148ms/step - loss: 0.2006 - accuracy: 0.9206 - val_loss: 0.1887 - val_accuracy: 0.9247\n"
          ],
          "name": "stdout"
        }
      ]
    },
    {
      "cell_type": "code",
      "metadata": {
        "id": "2JMdNNSwiHAo"
      },
      "source": [
        "# def CustomModel(input_shape: typing.Tuple[int]) -> Model:\n",
        "#     inceptionV3 = InceptionV3(input_shape= input_shape, weights= 'imagenet', include_top= False)\n",
        "#     for layer in inceptionV3.layers:\n",
        "#         layer.trainable = False\n",
        "        \n",
        "#     x = Flatten()(inceptionV3.output)\n",
        "#     x = Dense(units= 2048, activation= 'relu')(x)\n",
        "#     output = Dense(units= len(train_folders), activation= 'softmax')(x)\n",
        "    \n",
        "#     model = Model(inputs= inceptionV3.input, outputs= output, name= 'EmotionDetection')\n",
        "#     model.compile(loss= 'categorical_crossentropy', optimizer= 'adam', metrics= ['accuracy'])\n",
        "    \n",
        "#     return model"
      ],
      "execution_count": null,
      "outputs": []
    },
    {
      "cell_type": "code",
      "metadata": {
        "id": "E94z4yAkiKhi"
      },
      "source": [
        "# model = CustomModel(input_shape= (114,92,3))\n",
        "# model.summary()"
      ],
      "execution_count": null,
      "outputs": []
    },
    {
      "cell_type": "code",
      "metadata": {
        "id": "lSNDGt8_iR1t"
      },
      "source": [
        "# history = model.fit(\n",
        "#                     train_set,\n",
        "#                     validation_data= test_set,\n",
        "#                     epochs= 10,\n",
        "#                     callbacks= [tf.keras.callbacks.EarlyStopping(patience=5, monitor='val_loss',restore_best_weights=True)],\n",
        "#                     steps_per_epoch= len(train_set),\n",
        "#                     validation_steps= len(test_set))"
      ],
      "execution_count": null,
      "outputs": []
    },
    {
      "cell_type": "code",
      "metadata": {
        "id": "HrUhDgBOovIF"
      },
      "source": [
        "model.save(\"/content/drive/MyDrive/Colab Data/AgeGender/GenderModelV19.h5\")\n",
        "model_yaml = model.to_yaml()\n",
        "with open(\"/content/drive/MyDrive/Colab Data/AgeGender/yamlmodel.yaml\", \"w\") as yaml_file:\n",
        "  yaml_file.write(model_yaml)\n",
        "model.save_weights(\"/content/drive/MyDrive/Colab Data/AgeGender/weight.h5\")"
      ],
      "execution_count": null,
      "outputs": []
    }
  ]
}